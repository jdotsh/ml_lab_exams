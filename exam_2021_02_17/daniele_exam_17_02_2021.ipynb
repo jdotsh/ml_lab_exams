{
  "nbformat": 4,
  "nbformat_minor": 0,
  "metadata": {
    "colab": {
      "name": "Exam_17_02_2021.ipynb",
      "provenance": [],
      "collapsed_sections": []
    },
    "kernelspec": {
      "name": "python3",
      "display_name": "Python 3"
    },
    "language_info": {
      "name": "python"
    }
  },
  "cells": [
    {
      "cell_type": "markdown",
      "source": [
        "# Machine Learning - Lab Exam\n",
        "## Daniele Orazi \n",
        "### daniele.orazi2@studio.unibo.it"
      ],
      "metadata": {
        "id": "YUZYr4WKW33d"
      }
    },
    {
      "cell_type": "code",
      "execution_count": 159,
      "metadata": {
        "id": "noRP-2Z2W1nJ"
      },
      "outputs": [],
      "source": [
        "from IPython.display import Image\n",
        "import numpy as np\n",
        "import matplotlib.pyplot as plt\n",
        "import seaborn as sns\n",
        "import pandas as pd\n",
        "from sklearn.cluster import KMeans\n",
        "from sklearn.metrics import silhouette_score, silhouette_samples\n",
        "from sklearn.preprocessing import OneHotEncoder\n",
        "from sklearn.compose import ColumnTransformer\n",
        "from sklearn.model_selection import ParameterGrid\n",
        "from sklearn.cluster import DBSCAN\n",
        "from sklearn.metrics.cluster import pair_confusion_matrix\n",
        "from sklearn.metrics.cluster import adjusted_rand_score\n",
        "\n",
        "#import warnings\n",
        "#warnings.filterwarnings('ignore')\n",
        "\n",
        "%matplotlib inline\n",
        "\n",
        "rnd_state = 42 # This variable will be used in all the procedure calls allowing a random_state parameter\n",
        "               # in this way the running can be perfectly reproduced\n",
        "               # just change this value for a different experiment"
      ]
    },
    {
      "cell_type": "markdown",
      "source": [
        "1 Load the data, the attributes are all qualitative and there is no label column, show the shape of the data\n",
        "and for each column show the frequencies of each distinct value (hint: you can use the numpy\n",
        "function unique(x, return_counts = True)"
      ],
      "metadata": {
        "id": "rMHEjQGZXUNi"
      }
    },
    {
      "cell_type": "code",
      "source": [
        "data_url =  'exam_2021_02_17.csv'\n",
        "sep = '\\t'\n",
        "df = pd.read_csv(data_url,sep=sep)"
      ],
      "metadata": {
        "id": "iNXmKL2lXW__"
      },
      "execution_count": 160,
      "outputs": []
    },
    {
      "cell_type": "code",
      "source": [
        "df.shape"
      ],
      "metadata": {
        "id": "GzQyfHRzZDkj",
        "colab": {
          "base_uri": "https://localhost:8080/"
        },
        "outputId": "a60e7347-5848-4e46-d66a-26f4976a03af"
      },
      "execution_count": 161,
      "outputs": [
        {
          "output_type": "execute_result",
          "data": {
            "text/plain": [
              "(1000, 3)"
            ]
          },
          "metadata": {},
          "execution_count": 161
        }
      ]
    },
    {
      "cell_type": "code",
      "source": [
        "np.unique(df['F0'], return_counts = True)"
      ],
      "metadata": {
        "id": "BAcMHq7fZpxT",
        "colab": {
          "base_uri": "https://localhost:8080/"
        },
        "outputId": "3696b82d-66af-4c01-944d-2a0af4c73a65"
      },
      "execution_count": 162,
      "outputs": [
        {
          "output_type": "execute_result",
          "data": {
            "text/plain": [
              "(array(['a', 'b', 'c', 'd', 'e', 'f', 'g', 'h', 'i', 'j'], dtype=object),\n",
              " array([100, 100, 100, 100, 100, 100, 100, 100, 100, 100]))"
            ]
          },
          "metadata": {},
          "execution_count": 162
        }
      ]
    },
    {
      "cell_type": "code",
      "source": [
        "np.unique(df['F1'], return_counts = True)"
      ],
      "metadata": {
        "id": "pQJP7rcXaKIJ",
        "colab": {
          "base_uri": "https://localhost:8080/"
        },
        "outputId": "594ca7ad-6fcf-4edf-ece5-d4ce3a772880"
      },
      "execution_count": 163,
      "outputs": [
        {
          "output_type": "execute_result",
          "data": {
            "text/plain": [
              "(array(['a', 'b', 'c', 'd', 'e', 'f', 'g', 'h', 'i', 'j'], dtype=object),\n",
              " array([100,  99, 100, 100, 101, 100, 100, 100, 100, 100]))"
            ]
          },
          "metadata": {},
          "execution_count": 163
        }
      ]
    },
    {
      "cell_type": "code",
      "source": [
        "np.unique(df['F2'], return_counts = True)"
      ],
      "metadata": {
        "id": "tV4PNcjWaM-L",
        "colab": {
          "base_uri": "https://localhost:8080/"
        },
        "outputId": "a4be8c39-4255-47fc-a174-289cd784929a"
      },
      "execution_count": 164,
      "outputs": [
        {
          "output_type": "execute_result",
          "data": {
            "text/plain": [
              "(array(['a', 'b', 'c', 'd', 'e', 'f', 'g', 'h', 'i', 'j'], dtype=object),\n",
              " array([100,  99, 100, 100, 101, 100, 100, 100, 100, 100]))"
            ]
          },
          "metadata": {},
          "execution_count": 164
        }
      ]
    },
    {
      "cell_type": "markdown",
      "source": [
        "2 Do the appropriate pre-processing in order to use the sklearn algorithms on this dataset; the values are\n",
        "qualitative and must be considered as nominal"
      ],
      "metadata": {
        "id": "8X90x8c_aUp_"
      }
    },
    {
      "cell_type": "code",
      "source": [
        "categorical_features=['F0','F1','F2']\n",
        "transf_dtype = np.int64\n",
        "\n",
        "categorical_transformer = OneHotEncoder(handle_unknown='ignore'\n",
        "                                        , sparse = False\n",
        "                                        , dtype = transf_dtype)\n",
        "preprocessor = ColumnTransformer(\n",
        "    transformers = [('cat', categorical_transformer, categorical_features)],\n",
        "                    remainder = 'passthrough'\n",
        "    )"
      ],
      "metadata": {
        "id": "P94wKoybaXgP"
      },
      "execution_count": 165,
      "outputs": []
    },
    {
      "cell_type": "code",
      "source": [
        "preprocessor.fit(df)"
      ],
      "metadata": {
        "id": "Nb8mV_gsa5IC",
        "colab": {
          "base_uri": "https://localhost:8080/"
        },
        "outputId": "dab7a3f8-873a-49d3-fdcc-2a6da9416134"
      },
      "execution_count": 166,
      "outputs": [
        {
          "output_type": "execute_result",
          "data": {
            "text/plain": [
              "ColumnTransformer(remainder='passthrough',\n",
              "                  transformers=[('cat',\n",
              "                                 OneHotEncoder(dtype=<class 'numpy.int64'>,\n",
              "                                               handle_unknown='ignore',\n",
              "                                               sparse=False),\n",
              "                                 ['F0', 'F1', 'F2'])])"
            ]
          },
          "metadata": {},
          "execution_count": 166
        }
      ]
    },
    {
      "cell_type": "code",
      "source": [
        "print(preprocessor.named_transformers_)"
      ],
      "metadata": {
        "id": "m4B8aTjta9U6",
        "colab": {
          "base_uri": "https://localhost:8080/"
        },
        "outputId": "aa38239f-ae51-45a7-f423-0aedb8d0c6bd"
      },
      "execution_count": 167,
      "outputs": [
        {
          "output_type": "stream",
          "name": "stdout",
          "text": [
            "{'cat': OneHotEncoder(dtype=<class 'numpy.int64'>, handle_unknown='ignore',\n",
            "              sparse=False)}\n"
          ]
        }
      ]
    },
    {
      "cell_type": "code",
      "source": [
        "df_p = preprocessor.fit_transform(df)"
      ],
      "metadata": {
        "id": "IxoKehftbfdd"
      },
      "execution_count": 168,
      "outputs": []
    },
    {
      "cell_type": "code",
      "source": [
        "df_p.shape"
      ],
      "metadata": {
        "id": "rLCBLlTlbj-a",
        "colab": {
          "base_uri": "https://localhost:8080/"
        },
        "outputId": "98bb9be1-300f-4f2b-efcf-fa292c893efd"
      },
      "execution_count": 169,
      "outputs": [
        {
          "output_type": "execute_result",
          "data": {
            "text/plain": [
              "(1000, 30)"
            ]
          },
          "metadata": {},
          "execution_count": 169
        }
      ]
    },
    {
      "cell_type": "code",
      "source": [
        "df_p = pd.DataFrame(df_p)"
      ],
      "metadata": {
        "id": "Fo2-9ppTbwHW"
      },
      "execution_count": 170,
      "outputs": []
    },
    {
      "cell_type": "markdown",
      "source": [
        "3 As an external background knowledge, we are told that for this dataset a requirement for a good clustering\n",
        "scheme is to have clusters with low deviation in sizes, e.g. a scheme with cluster sizes (330, 670) is less\n",
        "acceptable than one with (333, 333, 334).\n",
        "In order to obtain this, we want to compute, for each clustering scheme with n_clusters clusters and\n",
        "represented by the labels in y, a size deviation index with the formula\n",
        "np.sqrt(np.unique(y, return_counts = True)[1].var())/n_clusters\n",
        "For varying number of clusters fit KMeans and compute the inertia, the silhouette index and the\n",
        "above-mentioned size deviation index."
      ],
      "metadata": {
        "id": "jQVnPhoAb1N2"
      }
    },
    {
      "cell_type": "code",
      "source": [
        "k_range = range(2,11)"
      ],
      "metadata": {
        "id": "ofRmS5YBb2DL"
      },
      "execution_count": 171,
      "outputs": []
    },
    {
      "cell_type": "code",
      "source": [
        "distortions = []\n",
        "silhouette_scores = []\n",
        "size_deviation_scores = []\n",
        "for i in k_range:\n",
        "    km = KMeans(n_clusters=i, \n",
        "                init='k-means++', \n",
        "                n_init=10, \n",
        "                max_iter=300, \n",
        "                random_state=rnd_state)\n",
        "    y_km = km.fit_predict(df_p)\n",
        "    distortions.append(km.inertia_)\n",
        "    silhouette_scores.append(silhouette_score(df_p,y_km))\n",
        "    size_deviation_scores.append(np.sqrt(np.unique(y_km, return_counts = True)[1].var())/i)"
      ],
      "metadata": {
        "id": "kmI5f6SIcM8f"
      },
      "execution_count": 172,
      "outputs": []
    },
    {
      "cell_type": "markdown",
      "source": [
        "4 In this dataset the elbow method will show an almost “vanishing” elbow for inertia, and the silhouette is\n",
        "totally non-effective. Make two plots, one with inertia and silhouette, another with inertia and size\n",
        "deviation index, then decide the best number of clusters and refit KMeans using that value"
      ],
      "metadata": {
        "id": "phJTm3d3c2c1"
      }
    },
    {
      "cell_type": "code",
      "source": [
        "fig, ax1 = plt.subplots()\n",
        "\n",
        "color = 'tab:red'\n",
        "ax1.set_xlabel('Number of clusters')\n",
        "ax1.set_ylabel('Inertia', color=color)\n",
        "ax1.plot(k_range, distortions, color=color)\n",
        "ax1.tick_params(axis='y', labelcolor=color)\n",
        "\n",
        "ax2 = ax1.twinx()  # instantiate a second axes that shares the same x-axis\n",
        "\n",
        "color = 'tab:blue'\n",
        "ax2.set_ylabel('Silhouette scores', color=color)  # we already handled the x-label with ax1\n",
        "ax2.plot(k_range, silhouette_scores, color=color)\n",
        "ax2.tick_params(axis='y', labelcolor=color)\n",
        "#ax2.set_ylim(0,1) # the axis for silhouette is [0,1]\n",
        "\n",
        "fig.tight_layout()  # otherwise the right y-label is slightly clipped\n",
        "plt.show()"
      ],
      "metadata": {
        "id": "G8uUpROFc3Jd",
        "colab": {
          "base_uri": "https://localhost:8080/",
          "height": 297
        },
        "outputId": "7084bf0c-075b-470d-bfab-f323e38395f5"
      },
      "execution_count": 173,
      "outputs": [
        {
          "output_type": "display_data",
          "data": {
            "image/png": "[encoded data removed]",
            "text/plain": [
              "<Figure size 432x288 with 2 Axes>"
            ]
          },
          "metadata": {
            "needs_background": "light"
          }
        }
      ]
    },
    {
      "cell_type": "code",
      "source": [
        "fig, ax1 = plt.subplots()\n",
        "\n",
        "color = 'tab:red'\n",
        "ax1.set_xlabel('Number of clusters')\n",
        "ax1.set_ylabel('Inertia', color=color)\n",
        "ax1.plot(k_range, distortions, color=color)\n",
        "ax1.tick_params(axis='y', labelcolor=color)\n",
        "\n",
        "ax2 = ax1.twinx()  # instantiate a second axes that shares the same x-axis\n",
        "\n",
        "color = 'tab:blue'\n",
        "ax2.set_ylabel('Size deviation index', color=color)  # we already handled the x-label with ax1\n",
        "ax2.plot(k_range, size_deviation_scores, color=color)\n",
        "ax2.tick_params(axis='y', labelcolor=color)\n",
        "\n",
        "fig.tight_layout()  # otherwise the right y-label is slightly clipped\n",
        "plt.show()"
      ],
      "metadata": {
        "id": "C0rarma6dD9f",
        "colab": {
          "base_uri": "https://localhost:8080/",
          "height": 297
        },
        "outputId": "b88621a4-79d2-45f3-92c5-30e2bfe890b1"
      },
      "execution_count": 174,
      "outputs": [
        {
          "output_type": "display_data",
          "data": {
            "image/png": "[encoded data removed]",
            "text/plain": [
              "<Figure size 432x288 with 2 Axes>"
            ]
          },
          "metadata": {
            "needs_background": "light"
          }
        }
      ]
    },
    {
      "cell_type": "markdown",
      "source": [
        "Since the size deviation score seems to have a lower peack with k=3 I decide to use this value as the number of clusters."
      ],
      "metadata": {
        "id": "sVOktLEO4CRd"
      }
    },
    {
      "cell_type": "code",
      "source": [
        "good_k=3"
      ],
      "metadata": {
        "id": "94C4h814eBct"
      },
      "execution_count": 175,
      "outputs": []
    },
    {
      "cell_type": "code",
      "source": [
        "km = KMeans(n_clusters=good_k, \n",
        "            init='k-means++', \n",
        "            n_init=10, \n",
        "            max_iter=300,\n",
        "            tol=1e-04,\n",
        "            random_state=rnd_state)\n",
        "y_km = km.fit_predict(df_p)"
      ],
      "metadata": {
        "id": "I_XJKRyfeKHd"
      },
      "execution_count": 176,
      "outputs": []
    },
    {
      "cell_type": "markdown",
      "source": [
        "5 Fit another clustering method of your choice, trying to reproduce the same number of clusters you have\n",
        "chosen in the previous step"
      ],
      "metadata": {
        "id": "SDx-TS9neuVU"
      }
    },
    {
      "cell_type": "code",
      "source": [
        "X=df_p.to_numpy()"
      ],
      "metadata": {
        "id": "gjekNJpQuL6n"
      },
      "execution_count": 177,
      "outputs": []
    },
    {
      "cell_type": "code",
      "source": [
        "param_grid = {'eps': list(np.arange(1, 2, 0.1)),\n",
        "              'min_samples': list(range(34,60,1))}\n",
        "params = list(ParameterGrid(param_grid))\n",
        "sil_thr = 0 \n",
        "unc_thr = 50"
      ],
      "metadata": {
        "id": "A0cFu7YJrf6u"
      },
      "execution_count": 183,
      "outputs": []
    },
    {
      "cell_type": "code",
      "source": [
        "silhouette_values = []\n",
        "print(\"{:11}\\t{:11}\\t{:11}\\t{:11}\\t{:11},\\t{:11}\".\\\n",
        "      format('        eps','min_samples',' n_clusters',' silhouette', '    unclust%','    size deviation'))\n",
        "for i in range(len(params)):\n",
        "    db = DBSCAN(**(params[i]))\n",
        "    y_db = db.fit_predict(X)\n",
        "    cluster_labels_all = np.unique(y_db)\n",
        "    cluster_labels = cluster_labels_all[cluster_labels_all != -1]\n",
        "    n_clusters = len(cluster_labels)\n",
        "    if n_clusters > 1:\n",
        "        X_cl = X[y_db!=-1,:]\n",
        "        y_db_cl = y_db[y_db!=-1]\n",
        "        silhouette = silhouette_score(X_cl,y_db_cl)\n",
        "        silhouette_values.append(silhouette)\n",
        "        size_deviation=np.sqrt(np.unique(y_db_cl, return_counts = True)[1].var())/n_clusters\n",
        "        size_deviation_scores.append(size_deviation)\n",
        "        uncl_p = (1 - y_db_cl.shape[0]/y_db.shape[0])*100\n",
        "        if silhouette > sil_thr and uncl_p < unc_thr:\n",
        "            print(\"{:11.2f}\\t{:11}\\t{:11}\\t{:11.2f}\\t{:11.2f}%\\t{:11.2f}\"\\\n",
        "                  .format(db.eps, db.min_samples, n_clusters, silhouette, uncl_p, size_deviation))"
      ],
      "metadata": {
        "colab": {
          "base_uri": "https://localhost:8080/"
        },
        "id": "btK8I7ApuW_8",
        "outputId": "3fd0f590-69c7-431b-a90e-d8ced0f565de"
      },
      "execution_count": 179,
      "outputs": [
        {
          "output_type": "stream",
          "name": "stdout",
          "text": [
            "        eps\tmin_samples\t n_clusters\t silhouette\t    unclust%,\t    size deviation\n",
            "       1.50\t         35\t          2\t       0.06\t       0.00%\t     101.50\n",
            "       1.50\t         36\t          2\t       0.06\t       0.00%\t     101.50\n",
            "       1.50\t         37\t          2\t       0.06\t       0.10%\t     101.25\n",
            "       1.50\t         38\t          2\t       0.06\t       0.10%\t     101.25\n",
            "       1.50\t         39\t          3\t       0.11\t       0.50%\t      10.36\n",
            "       1.50\t         40\t          3\t       0.11\t       2.50%\t      10.93\n",
            "       1.50\t         41\t          3\t       0.11\t       4.10%\t      13.08\n",
            "       1.50\t         42\t          3\t       0.11\t       4.90%\t      13.72\n",
            "       1.50\t         43\t          3\t       0.11\t       6.60%\t      14.43\n",
            "       1.50\t         44\t          3\t       0.11\t       7.10%\t      13.89\n",
            "       1.50\t         45\t          3\t       0.11\t       8.10%\t      14.30\n",
            "       1.50\t         46\t          3\t       0.12\t       9.10%\t      15.23\n",
            "       1.50\t         47\t          3\t       0.12\t      10.10%\t      15.79\n",
            "       1.50\t         48\t          4\t       0.10\t      14.10%\t      31.34\n",
            "       1.50\t         49\t          5\t       0.10\t      18.00%\t      26.63\n",
            "       1.50\t         50\t          5\t       0.12\t      22.90%\t      27.29\n",
            "       1.50\t         51\t          4\t       0.13\t      27.70%\t      33.83\n",
            "       1.50\t         52\t          3\t       0.14\t      33.80%\t      39.64\n",
            "       1.50\t         53\t          3\t       0.14\t      35.00%\t      38.87\n",
            "       1.50\t         54\t          3\t       0.11\t      41.10%\t      43.26\n",
            "       1.50\t         55\t          5\t       0.09\t      41.10%\t      22.34\n",
            "       1.50\t         56\t          5\t       0.11\t      43.30%\t      21.64\n",
            "       1.50\t         57\t          4\t       0.13\t      47.20%\t      26.24\n",
            "       1.60\t         35\t          2\t       0.06\t       0.00%\t     101.50\n",
            "       1.60\t         36\t          2\t       0.06\t       0.00%\t     101.50\n",
            "       1.60\t         37\t          2\t       0.06\t       0.10%\t     101.25\n",
            "       1.60\t         38\t          2\t       0.06\t       0.10%\t     101.25\n",
            "       1.60\t         39\t          3\t       0.11\t       0.50%\t      10.36\n",
            "       1.60\t         40\t          3\t       0.11\t       2.50%\t      10.93\n",
            "       1.60\t         41\t          3\t       0.11\t       4.10%\t      13.08\n",
            "       1.60\t         42\t          3\t       0.11\t       4.90%\t      13.72\n",
            "       1.60\t         43\t          3\t       0.11\t       6.60%\t      14.43\n",
            "       1.60\t         44\t          3\t       0.11\t       7.10%\t      13.89\n",
            "       1.60\t         45\t          3\t       0.11\t       8.10%\t      14.30\n",
            "       1.60\t         46\t          3\t       0.12\t       9.10%\t      15.23\n",
            "       1.60\t         47\t          3\t       0.12\t      10.10%\t      15.79\n",
            "       1.60\t         48\t          4\t       0.10\t      14.10%\t      31.34\n",
            "       1.60\t         49\t          5\t       0.10\t      18.00%\t      26.63\n",
            "       1.60\t         50\t          5\t       0.12\t      22.90%\t      27.29\n",
            "       1.60\t         51\t          4\t       0.13\t      27.70%\t      33.83\n",
            "       1.60\t         52\t          3\t       0.14\t      33.80%\t      39.64\n",
            "       1.60\t         53\t          3\t       0.14\t      35.00%\t      38.87\n",
            "       1.60\t         54\t          3\t       0.11\t      41.10%\t      43.26\n",
            "       1.60\t         55\t          5\t       0.09\t      41.10%\t      22.34\n",
            "       1.60\t         56\t          5\t       0.11\t      43.30%\t      21.64\n",
            "       1.60\t         57\t          4\t       0.13\t      47.20%\t      26.24\n",
            "       1.70\t         35\t          2\t       0.06\t       0.00%\t     101.50\n",
            "       1.70\t         36\t          2\t       0.06\t       0.00%\t     101.50\n",
            "       1.70\t         37\t          2\t       0.06\t       0.10%\t     101.25\n",
            "       1.70\t         38\t          2\t       0.06\t       0.10%\t     101.25\n",
            "       1.70\t         39\t          3\t       0.11\t       0.50%\t      10.36\n",
            "       1.70\t         40\t          3\t       0.11\t       2.50%\t      10.93\n",
            "       1.70\t         41\t          3\t       0.11\t       4.10%\t      13.08\n",
            "       1.70\t         42\t          3\t       0.11\t       4.90%\t      13.72\n",
            "       1.70\t         43\t          3\t       0.11\t       6.60%\t      14.43\n",
            "       1.70\t         44\t          3\t       0.11\t       7.10%\t      13.89\n",
            "       1.70\t         45\t          3\t       0.11\t       8.10%\t      14.30\n",
            "       1.70\t         46\t          3\t       0.12\t       9.10%\t      15.23\n",
            "       1.70\t         47\t          3\t       0.12\t      10.10%\t      15.79\n",
            "       1.70\t         48\t          4\t       0.10\t      14.10%\t      31.34\n",
            "       1.70\t         49\t          5\t       0.10\t      18.00%\t      26.63\n",
            "       1.70\t         50\t          5\t       0.12\t      22.90%\t      27.29\n",
            "       1.70\t         51\t          4\t       0.13\t      27.70%\t      33.83\n",
            "       1.70\t         52\t          3\t       0.14\t      33.80%\t      39.64\n",
            "       1.70\t         53\t          3\t       0.14\t      35.00%\t      38.87\n",
            "       1.70\t         54\t          3\t       0.11\t      41.10%\t      43.26\n",
            "       1.70\t         55\t          5\t       0.09\t      41.10%\t      22.34\n",
            "       1.70\t         56\t          5\t       0.11\t      43.30%\t      21.64\n",
            "       1.70\t         57\t          4\t       0.13\t      47.20%\t      26.24\n",
            "       1.80\t         35\t          2\t       0.06\t       0.00%\t     101.50\n",
            "       1.80\t         36\t          2\t       0.06\t       0.00%\t     101.50\n",
            "       1.80\t         37\t          2\t       0.06\t       0.10%\t     101.25\n",
            "       1.80\t         38\t          2\t       0.06\t       0.10%\t     101.25\n",
            "       1.80\t         39\t          3\t       0.11\t       0.50%\t      10.36\n",
            "       1.80\t         40\t          3\t       0.11\t       2.50%\t      10.93\n",
            "       1.80\t         41\t          3\t       0.11\t       4.10%\t      13.08\n",
            "       1.80\t         42\t          3\t       0.11\t       4.90%\t      13.72\n",
            "       1.80\t         43\t          3\t       0.11\t       6.60%\t      14.43\n",
            "       1.80\t         44\t          3\t       0.11\t       7.10%\t      13.89\n",
            "       1.80\t         45\t          3\t       0.11\t       8.10%\t      14.30\n",
            "       1.80\t         46\t          3\t       0.12\t       9.10%\t      15.23\n",
            "       1.80\t         47\t          3\t       0.12\t      10.10%\t      15.79\n",
            "       1.80\t         48\t          4\t       0.10\t      14.10%\t      31.34\n",
            "       1.80\t         49\t          5\t       0.10\t      18.00%\t      26.63\n",
            "       1.80\t         50\t          5\t       0.12\t      22.90%\t      27.29\n",
            "       1.80\t         51\t          4\t       0.13\t      27.70%\t      33.83\n",
            "       1.80\t         52\t          3\t       0.14\t      33.80%\t      39.64\n",
            "       1.80\t         53\t          3\t       0.14\t      35.00%\t      38.87\n",
            "       1.80\t         54\t          3\t       0.11\t      41.10%\t      43.26\n",
            "       1.80\t         55\t          5\t       0.09\t      41.10%\t      22.34\n",
            "       1.80\t         56\t          5\t       0.11\t      43.30%\t      21.64\n",
            "       1.80\t         57\t          4\t       0.13\t      47.20%\t      26.24\n",
            "       1.90\t         35\t          2\t       0.06\t       0.00%\t     101.50\n",
            "       1.90\t         36\t          2\t       0.06\t       0.00%\t     101.50\n",
            "       1.90\t         37\t          2\t       0.06\t       0.10%\t     101.25\n",
            "       1.90\t         38\t          2\t       0.06\t       0.10%\t     101.25\n",
            "       1.90\t         39\t          3\t       0.11\t       0.50%\t      10.36\n",
            "       1.90\t         40\t          3\t       0.11\t       2.50%\t      10.93\n",
            "       1.90\t         41\t          3\t       0.11\t       4.10%\t      13.08\n",
            "       1.90\t         42\t          3\t       0.11\t       4.90%\t      13.72\n",
            "       1.90\t         43\t          3\t       0.11\t       6.60%\t      14.43\n",
            "       1.90\t         44\t          3\t       0.11\t       7.10%\t      13.89\n",
            "       1.90\t         45\t          3\t       0.11\t       8.10%\t      14.30\n",
            "       1.90\t         46\t          3\t       0.12\t       9.10%\t      15.23\n",
            "       1.90\t         47\t          3\t       0.12\t      10.10%\t      15.79\n",
            "       1.90\t         48\t          4\t       0.10\t      14.10%\t      31.34\n",
            "       1.90\t         49\t          5\t       0.10\t      18.00%\t      26.63\n",
            "       1.90\t         50\t          5\t       0.12\t      22.90%\t      27.29\n",
            "       1.90\t         51\t          4\t       0.13\t      27.70%\t      33.83\n",
            "       1.90\t         52\t          3\t       0.14\t      33.80%\t      39.64\n",
            "       1.90\t         53\t          3\t       0.14\t      35.00%\t      38.87\n",
            "       1.90\t         54\t          3\t       0.11\t      41.10%\t      43.26\n",
            "       1.90\t         55\t          5\t       0.09\t      41.10%\t      22.34\n",
            "       1.90\t         56\t          5\t       0.11\t      43.30%\t      21.64\n",
            "       1.90\t         57\t          4\t       0.13\t      47.20%\t      26.24\n"
          ]
        }
      ]
    },
    {
      "cell_type": "code",
      "source": [
        "db = DBSCAN(eps=1.5, min_samples=39)\n",
        "y_db = db.fit_predict(df_p)\n",
        "cluster_labels_all = np.unique(y_db)\n",
        "cluster_labels = cluster_labels_all[cluster_labels_all != -1]\n",
        "n_clusters = len(cluster_labels)"
      ],
      "metadata": {
        "id": "gw2eB5jdm20C"
      },
      "execution_count": 180,
      "outputs": []
    },
    {
      "cell_type": "markdown",
      "source": [
        "6 Compare the results of the two clustering showing the result\n",
        "of sklearn.metrics.cluster.pair_confusion_matrix and sklearn.metrics.adjusted_rand_score"
      ],
      "metadata": {
        "id": "_0bjrwcxmv4w"
      }
    },
    {
      "cell_type": "code",
      "source": [
        "pair_confusion_matrix(y_km,y_db)"
      ],
      "metadata": {
        "colab": {
          "base_uri": "https://localhost:8080/"
        },
        "id": "8TP4FoPSmz3x",
        "outputId": "52b4ef8e-a8ec-4caa-aeb2-afe31d96f212"
      },
      "execution_count": 181,
      "outputs": [
        {
          "output_type": "execute_result",
          "data": {
            "text/plain": [
              "array([[659134,   5764],\n",
              "       [  7934, 326168]])"
            ]
          },
          "metadata": {},
          "execution_count": 181
        }
      ]
    },
    {
      "cell_type": "code",
      "source": [
        "adjusted_rand_score(y_km,y_db)"
      ],
      "metadata": {
        "colab": {
          "base_uri": "https://localhost:8080/"
        },
        "id": "Ii7LnLcsnX6s",
        "outputId": "9214f9d5-bd85-452d-9605-c12e8fe6a645"
      },
      "execution_count": 182,
      "outputs": [
        {
          "output_type": "execute_result",
          "data": {
            "text/plain": [
              "0.9691495998388563"
            ]
          },
          "metadata": {},
          "execution_count": 182
        }
      ]
    }
  ]
}