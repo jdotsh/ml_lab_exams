{
 "cells": [
  {
   "cell_type": "markdown",
   "metadata": {},
   "source": [
    "# ML Exam - Lab - Exam_2021_01_27\n",
    "Julian Sherollari - [julian.sherollari@studio.unibo.it](mailto:julian.sherollari@studio.unibo.it)"
   ]
  },
  {
   "cell_type": "code",
   "execution_count": 1,
   "metadata": {},
   "outputs": [],
   "source": [
    "import pandas as pd\n",
    "from sklearn.preprocessing import OrdinalEncoder\n",
    "from sklearn.model_selection import train_test_split\n",
    "from sklearn.naive_bayes import GaussianNB\n",
    "from sklearn.svm import SVC\n",
    "from sklearn.model_selection import GridSearchCV\n",
    "from sklearn.metrics import accuracy_score, plot_confusion_matrix"
   ]
  },
  {
   "cell_type": "markdown",
   "metadata": {},
   "source": [
    "## Data exploration - Task 1\n",
    "Before training the classifier, we'll want to have a look at the data. First, we'll import the dataset into a pandas DataFrame, then print its number of rows/columns, its head (the first 5 rows) and the result of its `describe()`"
   ]
  },
  {
   "cell_type": "code",
   "execution_count": 2,
   "metadata": {},
   "outputs": [
    {
     "name": "stdout",
     "output_type": "stream",
     "text": [
      "This dataset has 150 rows and 5 columns. Let's look at them.\n",
      "___________\n",
      "   feature1  feature2 feature3  feature4  class\n",
      "0       5.1       3.5        a       NaN      0\n",
      "1       4.9       3.0        a       NaN      0\n",
      "2       NaN       3.2        a       NaN      0\n",
      "3       4.6       NaN        a       0.2      0\n",
      "4       5.0       3.6        a       0.2      0\n",
      "___________\n",
      "         feature1    feature2    feature4       class\n",
      "count  141.000000  140.000000  137.000000  150.000000\n",
      "mean     5.897872    3.036429    1.290511    1.000000\n",
      "std      0.820232    0.437654    0.733934    0.819232\n",
      "min      4.300000    2.000000    0.100000    0.000000\n",
      "25%      5.200000    2.800000    0.400000    0.000000\n",
      "50%      5.800000    3.000000    1.400000    1.000000\n",
      "75%      6.400000    3.300000    1.800000    2.000000\n",
      "max      7.900000    4.400000    2.500000    2.000000\n"
     ]
    }
   ],
   "source": [
    "data_path = \"exam_2021_01_27.csv\"\n",
    "data = pd.read_csv(data_path, names=[\"feature1\", \"feature2\", \"feature3\", \"feature4\", \"class\"], index_col=False) # index_col is set to false, otherwise Pandas tries to infer the index from the first column\n",
    "print(f\"This dataset has {data.shape[0]} rows and {data.shape[1]} columns. Let's look at them.\\n___________\")\n",
    "print(data.head())\n",
    "print(\"___________\")\n",
    "print(data.describe())"
   ]
  },
  {
   "cell_type": "markdown",
   "metadata": {},
   "source": [
    "## NaNs elimination - Task 2\n",
    "Now, we'll want to get rid of NaNs, otherwise we might incur in errors. To do so, we'll use pandas' `dropna()`."
   ]
  },
  {
   "cell_type": "code",
   "execution_count": 3,
   "metadata": {},
   "outputs": [
    {
     "name": "stdout",
     "output_type": "stream",
     "text": [
      "After removing the NaNs, we're left with 122 rows.\n"
     ]
    }
   ],
   "source": [
    "data = data.dropna()\n",
    "print(f\"After removing the NaNs, we're left with {data.shape[0]} rows.\")"
   ]
  },
  {
   "cell_type": "markdown",
   "metadata": {},
   "source": [
    "## Ordinal transformation - Task 3\n",
    "Now, we can transform the ordinal `feature3` attribute to a numeric one through an `OrdinalEncoder`."
   ]
  },
  {
   "cell_type": "code",
   "execution_count": 4,
   "metadata": {},
   "outputs": [],
   "source": [
    "data[\"feature3\"] = OrdinalEncoder().fit_transform(data[\"feature3\"].values.reshape(-1, 1))"
   ]
  },
  {
   "cell_type": "markdown",
   "metadata": {},
   "source": [
    "## Holdout - Task 4\n",
    "And then, split the dataset into train and test to perform **Holdout**."
   ]
  },
  {
   "cell_type": "code",
   "execution_count": 5,
   "metadata": {},
   "outputs": [
    {
     "name": "stdout",
     "output_type": "stream",
     "text": [
      "Now, X_train has 91 rows and 4 columns.\n"
     ]
    }
   ],
   "source": [
    "X = data.drop(\"class\", axis=1)\n",
    "y = data[\"class\"]\n",
    "X_train, X_test, y_train, y_test = train_test_split(X, y, test_size=0.25, random_state=420)\n",
    "print(f\"Now, X_train has {X_train.shape[0]} rows and {X_train.shape[1]} columns.\")"
   ]
  },
  {
   "cell_type": "markdown",
   "metadata": {},
   "source": [
    "## Classification - Task 5\n",
    "We can now work on our classifiers. We'll choose a `GaussianNB` and a `SVC`.\n",
    "Before actually doing so, we'll define a function to print a report on our GridSearchCV."
   ]
  },
  {
   "cell_type": "code",
   "execution_count": 6,
   "metadata": {},
   "outputs": [],
   "source": [
    "def gridsearch_report(gs):\n",
    "    \"\"\"\n",
    "    Prints a score report for a GridSearchCV model\n",
    "    \"\"\"\n",
    "    print(\n",
    "        f\"Best obtained score was {round(gs.best_score_,4)} for {gs.best_params_}\")\n",
    "    print(\"Other params:\")\n",
    "    i = 0\n",
    "    for param_set in gs.cv_results_['params']:\n",
    "        print(\n",
    "            f\"{round(gs.cv_results_['mean_test_score'][i],4)} (+/-{round(2*gs.cv_results_['std_test_score'][i], 4)}) for {param_set}\")\n",
    "        i += 1"
   ]
  },
  {
   "cell_type": "markdown",
   "metadata": {},
   "source": [
    "### Gaussian Naive Bayes - Task 6"
   ]
  },
  {
   "cell_type": "code",
   "execution_count": 7,
   "metadata": {},
   "outputs": [
    {
     "name": "stdout",
     "output_type": "stream",
     "text": [
      "Best obtained score was 0.9673 for {'var_smoothing': 0.01}\n",
      "Other params:\n",
      "0.7585 (+/-0.0852) for {'var_smoothing': 10}\n",
      "0.9339 (+/-0.1298) for {'var_smoothing': 1}\n",
      "0.945 (+/-0.1217) for {'var_smoothing': 0.1}\n",
      "0.9673 (+/-0.0535) for {'var_smoothing': 0.01}\n",
      "0.9673 (+/-0.0535) for {'var_smoothing': 0.001}\n",
      "0.9673 (+/-0.0535) for {'var_smoothing': 0.0001}\n",
      "0.9673 (+/-0.0535) for {'var_smoothing': 1e-05}\n",
      "0.9673 (+/-0.0535) for {'var_smoothing': 1e-06}\n",
      "0.9673 (+/-0.0535) for {'var_smoothing': 1e-07}\n",
      "0.9673 (+/-0.0535) for {'var_smoothing': 1e-08}\n",
      "0.9673 (+/-0.0535) for {'var_smoothing': 1e-09}\n",
      "0.9673 (+/-0.0535) for {'var_smoothing': 1e-10}\n"
     ]
    }
   ],
   "source": [
    "nb_params = [{'var_smoothing': [10, 1, 1e-1, 1e-2, 1e-3, 1e-4, 1e-5, 1e-6, 1e-07, 1e-8, 1e-9, 1e-10]}]\n",
    "gnb = GaussianNB()\n",
    "gs_nb = GridSearchCV(gnb, param_grid=nb_params, scoring='accuracy')\n",
    "gs_nb.fit(X_train, y_train)\n",
    "gridsearch_report(gs_nb)"
   ]
  },
  {
   "cell_type": "markdown",
   "metadata": {},
   "source": [
    "### Actual NB testing - Task 7\n",
    "We obtained an accuracy of 0.9673 on CV, which is pretty good. Now, let's test it on the real test set."
   ]
  },
  {
   "cell_type": "code",
   "execution_count": 12,
   "metadata": {},
   "outputs": [
    {
     "name": "stdout",
     "output_type": "stream",
     "text": [
      "Our NB got an accuracy of 93.55% on the test set.\n"
     ]
    },
    {
     "data": {
      "image/png": "[encoded data removed]",
      "text/plain": [
       "<Figure size 432x288 with 2 Axes>"
      ]
     },
     "metadata": {
      "needs_background": "light"
     },
     "output_type": "display_data"
    }
   ],
   "source": [
    "best_nb = GaussianNB(var_smoothing=0.01)\n",
    "best_nb.fit(X_train, y_train)\n",
    "nb_prediction = best_nb.predict(X_test)\n",
    "print(f\"Our NB got an accuracy of {round(accuracy_score(y_test, nb_prediction), 4)*100}% on the test set.\")\n",
    "plot_confusion_matrix(best_nb, X_test, y_test, normalize=\"pred\");\n",
    "# We'll use \"pred\" since the predicted values are, in fact, TP+FP"
   ]
  },
  {
   "cell_type": "markdown",
   "metadata": {},
   "source": [
    "### SVC - Task 8\n",
    "Let's now do the same thing for the Support Vector."
   ]
  },
  {
   "cell_type": "code",
   "execution_count": 11,
   "metadata": {},
   "outputs": [
    {
     "name": "stdout",
     "output_type": "stream",
     "text": [
      "Best obtained score was 0.9673 for {'C': 100, 'gamma': 0.001, 'kernel': 'rbf'}\n",
      "Other params:\n",
      "0.4181 (+/-0.0657) for {'C': 1, 'gamma': 0.001, 'kernel': 'rbf'}\n",
      "0.4181 (+/-0.0657) for {'C': 1, 'gamma': 0.0001, 'kernel': 'rbf'}\n",
      "0.7585 (+/-0.1104) for {'C': 10, 'gamma': 0.001, 'kernel': 'rbf'}\n",
      "0.4181 (+/-0.0657) for {'C': 10, 'gamma': 0.0001, 'kernel': 'rbf'}\n",
      "0.9673 (+/-0.0535) for {'C': 100, 'gamma': 0.001, 'kernel': 'rbf'}\n",
      "0.7585 (+/-0.1104) for {'C': 100, 'gamma': 0.0001, 'kernel': 'rbf'}\n",
      "0.9673 (+/-0.0535) for {'C': 1000, 'gamma': 0.001, 'kernel': 'rbf'}\n",
      "0.9673 (+/-0.0535) for {'C': 1000, 'gamma': 0.0001, 'kernel': 'rbf'}\n",
      "0.9673 (+/-0.0535) for {'C': 1, 'kernel': 'linear'}\n",
      "0.9673 (+/-0.0535) for {'C': 10, 'kernel': 'linear'}\n",
      "0.9561 (+/-0.0439) for {'C': 100, 'kernel': 'linear'}\n",
      "0.9556 (+/-0.0831) for {'C': 1000, 'kernel': 'linear'}\n"
     ]
    }
   ],
   "source": [
    "svc_params = [{'kernel': ['rbf'],\n",
    "                    'gamma': [1e-3, 1e-4],\n",
    "                    'C': [1, 10, 100, 1000]\n",
    "                },\n",
    "                {'kernel': ['linear'],\n",
    "                'C': [1, 10, 100, 1000]\n",
    "                }]\n",
    "svc = SVC()\n",
    "gs_svc = GridSearchCV(svc, param_grid=svc_params, scoring='accuracy')\n",
    "gs_svc.fit(X_train, y_train)\n",
    "gridsearch_report(gs_svc)"
   ]
  },
  {
   "cell_type": "markdown",
   "metadata": {},
   "source": [
    "We actually got the same accuracy. This sounds normal in an *artificial* dataset.\n",
    "### Actual SVC testing - Task 9\n",
    "Now, let's test the best model."
   ]
  },
  {
   "cell_type": "code",
   "execution_count": 10,
   "metadata": {},
   "outputs": [
    {
     "name": "stdout",
     "output_type": "stream",
     "text": [
      "Our SVC got an accuracy of 93.55% on the test set.\n"
     ]
    },
    {
     "data": {
      "image/png": "[encoded data removed]",
      "text/plain": [
       "<Figure size 432x288 with 2 Axes>"
      ]
     },
     "metadata": {
      "needs_background": "light"
     },
     "output_type": "display_data"
    }
   ],
   "source": [
    "best_svc = SVC(C=100, gamma=0.001, kernel='rbf')\n",
    "best_svc.fit(X_train, y_train)\n",
    "svc_prediction = best_svc.predict(X_test)\n",
    "print(f\"Our SVC got an accuracy of {round(accuracy_score(y_test, svc_prediction), 4)*100}% on the test set.\")\n",
    "plot_confusion_matrix(best_svc, X_test, y_test, normalize=\"pred\");"
   ]
  }
 ],
 "metadata": {
  "kernelspec": {
   "display_name": "Python 3",
   "language": "python",
   "name": "python3"
  },
  "language_info": {
   "codemirror_mode": {
    "name": "ipython",
    "version": 3
   },
   "file_extension": ".py",
   "mimetype": "text/x-python",
   "name": "python",
   "nbconvert_exporter": "python",
   "pygments_lexer": "ipython3",
   "version": "3.8.5"
  }
 },
 "nbformat": 4,
 "nbformat_minor": 4
}
